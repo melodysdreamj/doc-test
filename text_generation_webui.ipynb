{
  "nbformat": 4,
  "nbformat_minor": 0,
  "metadata": {
    "colab": {
      "provenance": [],
      "gpuType": "T4",
      "include_colab_link": true
    },
    "kernelspec": {
      "name": "python3",
      "display_name": "Python 3"
    },
    "language_info": {
      "name": "python"
    },
    "accelerator": "GPU"
  },
  "cells": [
    {
      "cell_type": "markdown",
      "metadata": {
        "id": "view-in-github",
        "colab_type": "text"
      },
      "source": [
        "<a href=\"https://colab.research.google.com/github/melodysdreamj/doc-test/blob/main/text_generation_webui.ipynb\" target=\"_parent\"><img src=\"https://colab.research.google.com/assets/colab-badge.svg\" alt=\"Open In Colab\"/></a>"
      ]
    },
    {
      "cell_type": "code",
      "execution_count": null,
      "metadata": {
        "id": "vPY4v3U05uiB"
      },
      "outputs": [],
      "source": [
        "from google.colab import drive\n",
        "drive.mount('/content/drive/')\n",
        "# 구글 드라이브 연동\n",
        "\n",
        "%cd /content/drive/MyDrive\n",
        "!git clone https://github.com/oobabooga/text-generation-webui\n",
        "%cd /content/drive/MyDrive/text-generation-webui\n",
        "!git pull\n",
        "!pip install -r requirements.txt\n",
        "# 우바부가 설치\n",
        "\n",
        "!rm /content/drive/MyDrive/text-generation-webui/models/config.yaml\n",
        "# 우바부가 models 폴더에 잘못 들어온 파일 삭제\n",
        "\n",
        "!mkdir /content/drive/MyDrive/text-generation-webui/repositories\n",
        "%cd /content/drive/MyDrive/text-generation-webui/repositories\n",
        "!git clone https://github.com/turboderp/exllama\n",
        "%cd exllama\n",
        "!git pull\n",
        "%cd /content/drive/MyDrive/text-generation-webui/repositories\n",
        "!git clone https://github.com/oobabooga/GPTQ-for-LLaMa.git -b cuda\n",
        "%cd GPTQ-for-LLaMa\n",
        "!git pull\n",
        "!python setup_cuda.py install\n",
        "\n",
        "%cd /content/drive/MyDrive/text-generation-webui/models\n",
        "!git clone https://huggingface.co/TheBloke/WizardLM-13B-V1.1-GPTQ\n",
        "# 모델 다운로드\n",
        "\n",
        "!pip install ninja\n",
        "\n",
        "%cd /content/drive/MyDrive/text-generation-webui/\n",
        "!python server.py --no-stream --listen --share --auto-devices --chat --model WizardLM-13B-V1.1-GPTQ --loader exllama\n",
        "# 우바부가 실행"
      ]
    }
  ]
}